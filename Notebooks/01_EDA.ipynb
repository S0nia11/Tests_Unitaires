{
 "cells": [
  {
   "cell_type": "markdown",
   "id": "4ff8988f-cc4b-4306-901e-8cb29602c811",
   "metadata": {},
   "source": [
    "## Une première analyse du dataset\n",
    "- La forme générale du jeu de données\n",
    "- La présence de valeurs manquantes ou doublons\n",
    "- La distribution de la variable cible (target)\n",
    "- La longueur des textes\n",
    "- Des exemples de tweets par classe"
   ]
  },
  {
   "cell_type": "code",
   "execution_count": 1,
   "id": "4fcda00e-3b11-43c2-a0ff-8a85d8ced871",
   "metadata": {},
   "outputs": [],
   "source": [
    "import pandas as pd\n",
    "import numpy as np\n",
    "import matplotlib.pyplot as plt\n",
    "import seaborn as sns"
   ]
  },
  {
   "cell_type": "code",
   "execution_count": 2,
   "id": "9e0baf81-aa8f-413e-a4d8-64a7a79041ee",
   "metadata": {},
   "outputs": [
    {
     "data": {
      "text/html": [
       "<div>\n",
       "<style scoped>\n",
       "    .dataframe tbody tr th:only-of-type {\n",
       "        vertical-align: middle;\n",
       "    }\n",
       "\n",
       "    .dataframe tbody tr th {\n",
       "        vertical-align: top;\n",
       "    }\n",
       "\n",
       "    .dataframe thead th {\n",
       "        text-align: right;\n",
       "    }\n",
       "</style>\n",
       "<table border=\"1\" class=\"dataframe\">\n",
       "  <thead>\n",
       "    <tr style=\"text-align: right;\">\n",
       "      <th></th>\n",
       "      <th>id</th>\n",
       "      <th>keyword</th>\n",
       "      <th>location</th>\n",
       "      <th>text</th>\n",
       "      <th>target</th>\n",
       "    </tr>\n",
       "  </thead>\n",
       "  <tbody>\n",
       "    <tr>\n",
       "      <th>0</th>\n",
       "      <td>1</td>\n",
       "      <td>NaN</td>\n",
       "      <td>NaN</td>\n",
       "      <td>Our Deeds are the Reason of this #earthquake M...</td>\n",
       "      <td>1</td>\n",
       "    </tr>\n",
       "    <tr>\n",
       "      <th>1</th>\n",
       "      <td>4</td>\n",
       "      <td>NaN</td>\n",
       "      <td>NaN</td>\n",
       "      <td>Forest fire near La Ronge Sask. Canada</td>\n",
       "      <td>1</td>\n",
       "    </tr>\n",
       "    <tr>\n",
       "      <th>2</th>\n",
       "      <td>5</td>\n",
       "      <td>NaN</td>\n",
       "      <td>NaN</td>\n",
       "      <td>All residents asked to 'shelter in place' are ...</td>\n",
       "      <td>1</td>\n",
       "    </tr>\n",
       "    <tr>\n",
       "      <th>3</th>\n",
       "      <td>6</td>\n",
       "      <td>NaN</td>\n",
       "      <td>NaN</td>\n",
       "      <td>13,000 people receive #wildfires evacuation or...</td>\n",
       "      <td>1</td>\n",
       "    </tr>\n",
       "    <tr>\n",
       "      <th>4</th>\n",
       "      <td>7</td>\n",
       "      <td>NaN</td>\n",
       "      <td>NaN</td>\n",
       "      <td>Just got sent this photo from Ruby #Alaska as ...</td>\n",
       "      <td>1</td>\n",
       "    </tr>\n",
       "  </tbody>\n",
       "</table>\n",
       "</div>"
      ],
      "text/plain": [
       "   id keyword location                                               text  \\\n",
       "0   1     NaN      NaN  Our Deeds are the Reason of this #earthquake M...   \n",
       "1   4     NaN      NaN             Forest fire near La Ronge Sask. Canada   \n",
       "2   5     NaN      NaN  All residents asked to 'shelter in place' are ...   \n",
       "3   6     NaN      NaN  13,000 people receive #wildfires evacuation or...   \n",
       "4   7     NaN      NaN  Just got sent this photo from Ruby #Alaska as ...   \n",
       "\n",
       "   target  \n",
       "0       1  \n",
       "1       1  \n",
       "2       1  \n",
       "3       1  \n",
       "4       1  "
      ]
     },
     "execution_count": 2,
     "metadata": {},
     "output_type": "execute_result"
    }
   ],
   "source": [
    "df = pd.read_csv(\"../data/train.csv\")\n",
    "df.head()"
   ]
  },
  {
   "cell_type": "markdown",
   "id": "93b81983-53e6-4e98-b541-ddbbb7f00822",
   "metadata": {},
   "source": [
    "# Infos dataset "
   ]
  },
  {
   "cell_type": "code",
   "execution_count": 3,
   "id": "1046d69b-9d35-4184-bc8a-bc0e4b1b6afb",
   "metadata": {},
   "outputs": [
    {
     "name": "stdout",
     "output_type": "stream",
     "text": [
      "Shape: (7613, 5)\n",
      "\n",
      "Dtypes:\n",
      "id           int64\n",
      "keyword     object\n",
      "location    object\n",
      "text        object\n",
      "target       int64\n",
      "dtype: object\n",
      "\n",
      "Colonnes: ['id', 'keyword', 'location', 'text', 'target']\n"
     ]
    }
   ],
   "source": [
    "#1-Dimensions  2-Type colonnes 3-colonnes dispo\n",
    "print(f\"Shape: {df.shape}\")\n",
    "\n",
    "print(\"\\nDtypes:\")\n",
    "print(df.dtypes)\n",
    "\n",
    "print(\"\\nColonnes:\", df.columns.tolist())\n"
   ]
  },
  {
   "cell_type": "code",
   "execution_count": 4,
   "id": "1c0de4b2-3349-47d6-b27b-575fa9e25885",
   "metadata": {},
   "outputs": [
    {
     "name": "stdout",
     "output_type": "stream",
     "text": [
      "\n",
      "Valeurs manquantes par colonne:\n",
      "id             0\n",
      "keyword       61\n",
      "location    2533\n",
      "text           0\n",
      "target         0\n",
      "dtype: int64\n",
      "\n",
      "Pourcentage de valeurs manquantes:\n",
      "id           0.00\n",
      "keyword      0.80\n",
      "location    33.27\n",
      "text         0.00\n",
      "target       0.00\n",
      "dtype: float64\n",
      "\n",
      "Nombre de doublons: 0\n"
     ]
    }
   ],
   "source": [
    "#1-Valeurs manq  2-Pourcentage  3-Doublons\n",
    "print(\"\\nValeurs manquantes par colonne:\")\n",
    "print(df.isnull().sum())\n",
    "\n",
    "print(\"\\nPourcentage de valeurs manquantes:\")\n",
    "print((df.isnull().mean() * 100).round(2))\n",
    "\n",
    "print(f\"\\nNombre de doublons: {df.duplicated().sum()}\")\n"
   ]
  },
  {
   "cell_type": "code",
   "execution_count": 5,
   "id": "8bc25abf-3859-4d22-b61b-d0ef92a7646c",
   "metadata": {},
   "outputs": [
    {
     "name": "stdout",
     "output_type": "stream",
     "text": [
      "count    7613.000000\n",
      "mean      101.037436\n",
      "std        33.781325\n",
      "min         7.000000\n",
      "25%        78.000000\n",
      "50%       107.000000\n",
      "75%       133.000000\n",
      "max       157.000000\n",
      "Name: text_length, dtype: float64\n"
     ]
    },
    {
     "data": {
      "image/png": "[encoded data removed]",
      "text/plain": [
       "<Figure size 640x480 with 1 Axes>"
      ]
     },
     "metadata": {},
     "output_type": "display_data"
    }
   ],
   "source": [
    "df[\"text_length\"] = df[\"text\"].apply(len)\n",
    "print(df[\"text_length\"].describe())\n",
    "\n",
    "plt.hist(df[\"text_length\"], bins=50, color='skyblue')\n",
    "plt.title(\"Distribution des longueurs de tweets\")\n",
    "plt.xlabel(\"Longueur\")\n",
    "plt.ylabel(\"Nombre de tweets\")\n",
    "plt.show()"
   ]
  },
  {
   "cell_type": "markdown",
   "id": "b7e02291-2814-4f05-9735-5bd9bbbeb807",
   "metadata": {},
   "source": [
    "# Distribution de la cible "
   ]
  },
  {
   "cell_type": "code",
   "execution_count": 6,
   "id": "1a20c019-d7ad-4038-87a1-67f4c3676c86",
   "metadata": {},
   "outputs": [
    {
     "data": {
      "image/png": "[encoded data removed]",
      "text/plain": [
       "<Figure size 640x480 with 1 Axes>"
      ]
     },
     "metadata": {},
     "output_type": "display_data"
    },
    {
     "data": {
      "text/plain": [
       "target\n",
       "0    0.57\n",
       "1    0.43\n",
       "Name: proportion, dtype: float64"
      ]
     },
     "execution_count": 6,
     "metadata": {},
     "output_type": "execute_result"
    }
   ],
   "source": [
    "sns.countplot(x=\"target\", data=df)\n",
    "plt.title(\"Répartition de la variable cible\")\n",
    "plt.xlabel(\"Classe (0 = normal, 1 = catastrophe)\")\n",
    "plt.ylabel(\"Nombre de tweets\")\n",
    "plt.show()\n",
    "\n",
    "df[\"target\"].value_counts(normalize=True).round(2)"
   ]
  },
  {
   "cell_type": "code",
   "execution_count": null,
   "id": "073211ed-0fae-4fb6-8c83-14910847497c",
   "metadata": {},
   "outputs": [],
   "source": []
  }
 ],
 "metadata": {
  "kernelspec": {
   "display_name": "Python (my_tps)",
   "language": "python",
   "name": "my_tps"
  },
  "language_info": {
   "codemirror_mode": {
    "name": "ipython",
    "version": 3
   },
   "file_extension": ".py",
   "mimetype": "text/x-python",
   "name": "python",
   "nbconvert_exporter": "python",
   "pygments_lexer": "ipython3",
   "version": "3.9.23"
  }
 },
 "nbformat": 4,
 "nbformat_minor": 5
}
