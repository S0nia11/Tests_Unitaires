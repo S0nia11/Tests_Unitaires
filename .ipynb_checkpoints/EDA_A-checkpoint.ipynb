{
 "cells": [
  {
   "cell_type": "markdown",
   "id": "a130b60d-b856-4b89-ba68-87f294d6486a",
   "metadata": {},
   "source": [
    "## Une première analyse du dataset\n",
    "- La forme générale du jeu de données\n",
    "- La présence de valeurs manquantes ou doublons\n",
    "- La distribution de la variable cible (target)\n",
    "- La longueur des textes\n",
    "- Des exemples de tweets par classe"
   ]
  },
  {
   "cell_type": "code",
   "execution_count": 1,
   "id": "0f55f0b9-0c17-4034-8554-63ce7fbebcdd",
   "metadata": {},
   "outputs": [],
   "source": [
    "import pandas as pd\n",
    "import numpy as np\n",
    "import matplotlib.pyplot as plt\n",
    "import seaborn as sns"
   ]
  },
  {
   "cell_type": "code",
   "execution_count": null,
   "id": "1ff59d9b-4dfd-429c-b718-753c81710978",
   "metadata": {},
   "outputs": [],
   "source": [
    "df = pd.read_csv(\"../data/train.csv\")  # adapte le chemin si besoin\n",
    "df.head()"
   ]
  }
 ],
 "metadata": {
  "kernelspec": {
   "display_name": "Python (my_tps)",
   "language": "python",
   "name": "my_tps"
  },
  "language_info": {
   "codemirror_mode": {
    "name": "ipython",
    "version": 3
   },
   "file_extension": ".py",
   "mimetype": "text/x-python",
   "name": "python",
   "nbconvert_exporter": "python",
   "pygments_lexer": "ipython3",
   "version": "3.9.23"
  }
 },
 "nbformat": 4,
 "nbformat_minor": 5
}
