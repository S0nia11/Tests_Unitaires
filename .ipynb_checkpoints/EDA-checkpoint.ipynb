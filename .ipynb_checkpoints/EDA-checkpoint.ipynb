{
 "cells": [
  {
   "cell_type": "markdown",
   "id": "19d40da4-2cf1-475e-a42a-ad0a7aa2fbfd",
   "metadata": {},
   "source": [
    "## Une première analyse du dataset \n",
    " - La forme générale du jeu de données\n",
    " - La présence de valeurs manquantes ou doublons\n",
    " - La distribution de la variable cible (`target`)\n",
    " - La longueur des textes\n",
    " - Des exemples de tweets par classe\n"
   ]
  },
  {
   "cell_type": "code",
   "execution_count": null,
   "id": "36f9ef90-1a8b-4905-af1e-6a38714f8a14",
   "metadata": {},
   "outputs": [],
   "source": []
  }
 ],
 "metadata": {
  "kernelspec": {
   "display_name": "Python 3 (ipykernel)",
   "language": "python",
   "name": "python3"
  },
  "language_info": {
   "codemirror_mode": {
    "name": "ipython",
    "version": 3
   },
   "file_extension": ".py",
   "mimetype": "text/x-python",
   "name": "python",
   "nbconvert_exporter": "python",
   "pygments_lexer": "ipython3",
   "version": "3.11.9"
  }
 },
 "nbformat": 4,
 "nbformat_minor": 5
}
